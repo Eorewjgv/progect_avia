{
 "cells": [
  {
   "cell_type": "markdown",
   "metadata": {},
   "source": [
    "## Цель проекта:  построить графики: модели самолетов и количество рейсов, города и количество рейсов, топ-10 городов и количество рейсов; сделать выводы по каждому из графиков, пояснить результат."
   ]
  },
  {
   "cell_type": "markdown",
   "metadata": {},
   "source": [
    "## Изучение данных из файлов."
   ]
  },
  {
   "cell_type": "markdown",
   "metadata": {},
   "source": [
    "### Выгрузка библиотек для работы с файлами."
   ]
  },
  {
   "cell_type": "code",
   "execution_count": 1,
   "metadata": {},
   "outputs": [],
   "source": [
    "import pandas as pd\n",
    "import seaborn as sns\n",
    "import matplotlib.pyplot as plt"
   ]
  },
  {
   "cell_type": "markdown",
   "metadata": {},
   "source": [
    "### Открытие файлов"
   ]
  },
  {
   "cell_type": "code",
   "execution_count": 2,
   "metadata": {},
   "outputs": [],
   "source": [
    "model_amount_flights = pd.read_csv('/datasets/query_1.csv')\n",
    "city_average_flights = pd.read_csv('/datasets/query_3.csv')"
   ]
  },
  {
   "cell_type": "markdown",
   "metadata": {},
   "source": [
    "### Изучение таблицы \"model_amount_flights\""
   ]
  },
  {
   "cell_type": "code",
   "execution_count": 3,
   "metadata": {},
   "outputs": [
    {
     "data": {
      "text/html": [
       "<div>\n",
       "<style scoped>\n",
       "    .dataframe tbody tr th:only-of-type {\n",
       "        vertical-align: middle;\n",
       "    }\n",
       "\n",
       "    .dataframe tbody tr th {\n",
       "        vertical-align: top;\n",
       "    }\n",
       "\n",
       "    .dataframe thead th {\n",
       "        text-align: right;\n",
       "    }\n",
       "</style>\n",
       "<table border=\"1\" class=\"dataframe\">\n",
       "  <thead>\n",
       "    <tr style=\"text-align: right;\">\n",
       "      <th></th>\n",
       "      <th>model</th>\n",
       "      <th>flights_amount</th>\n",
       "    </tr>\n",
       "  </thead>\n",
       "  <tbody>\n",
       "    <tr>\n",
       "      <td>0</td>\n",
       "      <td>Airbus A319-100</td>\n",
       "      <td>607</td>\n",
       "    </tr>\n",
       "    <tr>\n",
       "      <td>1</td>\n",
       "      <td>Airbus A321-200</td>\n",
       "      <td>960</td>\n",
       "    </tr>\n",
       "    <tr>\n",
       "      <td>2</td>\n",
       "      <td>Boeing 737-300</td>\n",
       "      <td>630</td>\n",
       "    </tr>\n",
       "    <tr>\n",
       "      <td>3</td>\n",
       "      <td>Boeing 767-300</td>\n",
       "      <td>600</td>\n",
       "    </tr>\n",
       "    <tr>\n",
       "      <td>4</td>\n",
       "      <td>Boeing 777-300</td>\n",
       "      <td>300</td>\n",
       "    </tr>\n",
       "    <tr>\n",
       "      <td>5</td>\n",
       "      <td>Bombardier CRJ-200</td>\n",
       "      <td>4446</td>\n",
       "    </tr>\n",
       "    <tr>\n",
       "      <td>6</td>\n",
       "      <td>Cessna 208 Caravan</td>\n",
       "      <td>4557</td>\n",
       "    </tr>\n",
       "    <tr>\n",
       "      <td>7</td>\n",
       "      <td>Sukhoi SuperJet-100</td>\n",
       "      <td>4185</td>\n",
       "    </tr>\n",
       "  </tbody>\n",
       "</table>\n",
       "</div>"
      ],
      "text/plain": [
       "                 model  flights_amount\n",
       "0      Airbus A319-100             607\n",
       "1      Airbus A321-200             960\n",
       "2       Boeing 737-300             630\n",
       "3       Boeing 767-300             600\n",
       "4       Boeing 777-300             300\n",
       "5   Bombardier CRJ-200            4446\n",
       "6   Cessna 208 Caravan            4557\n",
       "7  Sukhoi SuperJet-100            4185"
      ]
     },
     "execution_count": 3,
     "metadata": {},
     "output_type": "execute_result"
    }
   ],
   "source": [
    "model_amount_flights #откроем dataframe"
   ]
  },
  {
   "cell_type": "code",
   "execution_count": 4,
   "metadata": {
    "scrolled": true
   },
   "outputs": [
    {
     "name": "stdout",
     "output_type": "stream",
     "text": [
      "<class 'pandas.core.frame.DataFrame'>\n",
      "RangeIndex: 8 entries, 0 to 7\n",
      "Data columns (total 2 columns):\n",
      "model             8 non-null object\n",
      "flights_amount    8 non-null int64\n",
      "dtypes: int64(1), object(1)\n",
      "memory usage: 256.0+ bytes\n"
     ]
    }
   ],
   "source": [
    "model_amount_flights.info()"
   ]
  },
  {
   "cell_type": "markdown",
   "metadata": {},
   "source": [
    "**В таблице \"model_amount_flights\" пропусков нет. Типы фалов соответствуют.**"
   ]
  },
  {
   "cell_type": "markdown",
   "metadata": {},
   "source": [
    "### Изучение таблицы \"city_average_flights\""
   ]
  },
  {
   "cell_type": "code",
   "execution_count": 5,
   "metadata": {
    "scrolled": true
   },
   "outputs": [
    {
     "data": {
      "text/html": [
       "<div>\n",
       "<style scoped>\n",
       "    .dataframe tbody tr th:only-of-type {\n",
       "        vertical-align: middle;\n",
       "    }\n",
       "\n",
       "    .dataframe tbody tr th {\n",
       "        vertical-align: top;\n",
       "    }\n",
       "\n",
       "    .dataframe thead th {\n",
       "        text-align: right;\n",
       "    }\n",
       "</style>\n",
       "<table border=\"1\" class=\"dataframe\">\n",
       "  <thead>\n",
       "    <tr style=\"text-align: right;\">\n",
       "      <th></th>\n",
       "      <th>city</th>\n",
       "      <th>average_flights</th>\n",
       "    </tr>\n",
       "  </thead>\n",
       "  <tbody>\n",
       "    <tr>\n",
       "      <td>0</td>\n",
       "      <td>Абакан</td>\n",
       "      <td>3.870968</td>\n",
       "    </tr>\n",
       "    <tr>\n",
       "      <td>1</td>\n",
       "      <td>Анадырь</td>\n",
       "      <td>1.000000</td>\n",
       "    </tr>\n",
       "    <tr>\n",
       "      <td>2</td>\n",
       "      <td>Анапа</td>\n",
       "      <td>2.161290</td>\n",
       "    </tr>\n",
       "    <tr>\n",
       "      <td>3</td>\n",
       "      <td>Архангельск</td>\n",
       "      <td>5.354839</td>\n",
       "    </tr>\n",
       "    <tr>\n",
       "      <td>4</td>\n",
       "      <td>Астрахань</td>\n",
       "      <td>2.451613</td>\n",
       "    </tr>\n",
       "  </tbody>\n",
       "</table>\n",
       "</div>"
      ],
      "text/plain": [
       "          city  average_flights\n",
       "0       Абакан         3.870968\n",
       "1      Анадырь         1.000000\n",
       "2        Анапа         2.161290\n",
       "3  Архангельск         5.354839\n",
       "4    Астрахань         2.451613"
      ]
     },
     "execution_count": 5,
     "metadata": {},
     "output_type": "execute_result"
    }
   ],
   "source": [
    "city_average_flights.head() #откроем dataframe"
   ]
  },
  {
   "cell_type": "code",
   "execution_count": 6,
   "metadata": {},
   "outputs": [
    {
     "name": "stdout",
     "output_type": "stream",
     "text": [
      "<class 'pandas.core.frame.DataFrame'>\n",
      "RangeIndex: 101 entries, 0 to 100\n",
      "Data columns (total 2 columns):\n",
      "city               101 non-null object\n",
      "average_flights    101 non-null float64\n",
      "dtypes: float64(1), object(1)\n",
      "memory usage: 1.7+ KB\n"
     ]
    }
   ],
   "source": [
    "city_average_flights.info()"
   ]
  },
  {
   "cell_type": "markdown",
   "metadata": {},
   "source": [
    "**В таблице \"city_average_flights\" пропусков нет. Типы данных соответствуют.**"
   ]
  },
  {
   "cell_type": "markdown",
   "metadata": {},
   "source": [
    "### Поиск дубликатов"
   ]
  },
  {
   "cell_type": "code",
   "execution_count": 7,
   "metadata": {},
   "outputs": [
    {
     "data": {
      "text/plain": [
       "0"
      ]
     },
     "execution_count": 7,
     "metadata": {},
     "output_type": "execute_result"
    }
   ],
   "source": [
    "city_average_flights['city'].str.lower().duplicated().sum()"
   ]
  },
  {
   "cell_type": "markdown",
   "metadata": {},
   "source": [
    "**Дубликатов не обнаружено.**"
   ]
  },
  {
   "cell_type": "markdown",
   "metadata": {},
   "source": [
    "## Анализ графиков"
   ]
  },
  {
   "cell_type": "markdown",
   "metadata": {},
   "source": [
    "**Отсортируем таблицу по среднему количеству рейсов и выведем ТОП-10 городов, с самым большим количеством рейсов в день**"
   ]
  },
  {
   "cell_type": "code",
   "execution_count": 8,
   "metadata": {
    "scrolled": false
   },
   "outputs": [
    {
     "data": {
      "text/html": [
       "<div>\n",
       "<style scoped>\n",
       "    .dataframe tbody tr th:only-of-type {\n",
       "        vertical-align: middle;\n",
       "    }\n",
       "\n",
       "    .dataframe tbody tr th {\n",
       "        vertical-align: top;\n",
       "    }\n",
       "\n",
       "    .dataframe thead th {\n",
       "        text-align: right;\n",
       "    }\n",
       "</style>\n",
       "<table border=\"1\" class=\"dataframe\">\n",
       "  <thead>\n",
       "    <tr style=\"text-align: right;\">\n",
       "      <th></th>\n",
       "      <th>city</th>\n",
       "      <th>average_flights</th>\n",
       "    </tr>\n",
       "  </thead>\n",
       "  <tbody>\n",
       "    <tr>\n",
       "      <td>43</td>\n",
       "      <td>Москва</td>\n",
       "      <td>129.774194</td>\n",
       "    </tr>\n",
       "    <tr>\n",
       "      <td>70</td>\n",
       "      <td>Санкт-Петербург</td>\n",
       "      <td>31.161290</td>\n",
       "    </tr>\n",
       "    <tr>\n",
       "      <td>54</td>\n",
       "      <td>Новосибирск</td>\n",
       "      <td>17.322581</td>\n",
       "    </tr>\n",
       "    <tr>\n",
       "      <td>33</td>\n",
       "      <td>Красноярск</td>\n",
       "      <td>11.580645</td>\n",
       "    </tr>\n",
       "    <tr>\n",
       "      <td>20</td>\n",
       "      <td>Екатеринбург</td>\n",
       "      <td>11.322581</td>\n",
       "    </tr>\n",
       "    <tr>\n",
       "      <td>67</td>\n",
       "      <td>Ростов-на-Дону</td>\n",
       "      <td>10.193548</td>\n",
       "    </tr>\n",
       "    <tr>\n",
       "      <td>63</td>\n",
       "      <td>Пермь</td>\n",
       "      <td>10.129032</td>\n",
       "    </tr>\n",
       "    <tr>\n",
       "      <td>10</td>\n",
       "      <td>Брянск</td>\n",
       "      <td>10.000000</td>\n",
       "    </tr>\n",
       "    <tr>\n",
       "      <td>74</td>\n",
       "      <td>Сочи</td>\n",
       "      <td>9.612903</td>\n",
       "    </tr>\n",
       "    <tr>\n",
       "      <td>84</td>\n",
       "      <td>Ульяновск</td>\n",
       "      <td>9.580645</td>\n",
       "    </tr>\n",
       "  </tbody>\n",
       "</table>\n",
       "</div>"
      ],
      "text/plain": [
       "               city  average_flights\n",
       "43           Москва       129.774194\n",
       "70  Санкт-Петербург        31.161290\n",
       "54      Новосибирск        17.322581\n",
       "33       Красноярск        11.580645\n",
       "20     Екатеринбург        11.322581\n",
       "67   Ростов-на-Дону        10.193548\n",
       "63            Пермь        10.129032\n",
       "10           Брянск        10.000000\n",
       "74             Сочи         9.612903\n",
       "84        Ульяновск         9.580645"
      ]
     },
     "execution_count": 8,
     "metadata": {},
     "output_type": "execute_result"
    }
   ],
   "source": [
    "top_flights_city = city_average_flights.sort_values(by='average_flights', ascending=False).head(10)\n",
    "top_flights_city"
   ]
  },
  {
   "cell_type": "markdown",
   "metadata": {},
   "source": [
    "**Построим графики показывающие модели самолетов и количество рейсов, города и количество рейсов, топ-10 городов и количество рейсов**"
   ]
  },
  {
   "cell_type": "markdown",
   "metadata": {},
   "source": [
    "**Отсортируем таблицу количество рейсов на определенной модели самолета по убыванию.**"
   ]
  },
  {
   "cell_type": "code",
   "execution_count": 19,
   "metadata": {},
   "outputs": [],
   "source": [
    "model_flights_sort = model_amount_flights.sort_values(by='flights_amount', ascending=False)"
   ]
  },
  {
   "cell_type": "markdown",
   "metadata": {},
   "source": [
    "**Оптимизируем построение графиков функцией и определим размер графиков.**"
   ]
  },
  {
   "cell_type": "code",
   "execution_count": 37,
   "metadata": {},
   "outputs": [],
   "source": [
    "sns.set(rc={'figure.figsize':(20,15)})\n",
    "def sns_plot(data,x,y,titlename,xname, yname):\n",
    "    plot = sns.barplot(data=data,x=x,y=y)\n",
    "    plt.title(titlename)\n",
    "    plt.xlabel(xname)\n",
    "    plt.ylabel(yname)\n",
    "    plt.show"
   ]
  },
  {
   "cell_type": "markdown",
   "metadata": {},
   "source": [
    "### График №1. Модель самолетов и колечество рейсов."
   ]
  },
  {
   "cell_type": "code",
   "execution_count": 38,
   "metadata": {
    "scrolled": false
   },
   "outputs": [
    {
     "data": {
      "image/png": "[encoded data removed]",
      "text/plain": [
       "<Figure size 1440x1080 with 1 Axes>"
      ]
     },
     "metadata": {},
     "output_type": "display_data"
    }
   ],
   "source": [
    "sns_plot(model_flights_sort, 'model', 'flights_amount', 'Количество рейсов на определенной модели самолета', 'Модель самолета', 'Количество рейсов')"
   ]
  },
  {
   "cell_type": "markdown",
   "metadata": {},
   "source": [
    "**Вывод:**"
   ]
  },
  {
   "cell_type": "markdown",
   "metadata": {},
   "source": [
    "На графике видим, что больше всего рейсов в сентябре 2018 года было совершно на моделях самолета \"Bombardier CRJ-200\", \"Cessna 208 Caravan\", \"Sukhoi Superjet-100\". Это связано с тем что на таких самолетах совершаются межрегиональные рейсы. Также на этих самолетах совершают бизнес рейсы.\n",
    "Такие рейсы совершаются чаще, чем среднемагистральные рейсы. На среднемагистральные рейсы летают 'Boeing' и 'Airbus'"
   ]
  },
  {
   "cell_type": "markdown",
   "metadata": {},
   "source": [
    "### График №2. ТОП-10 городов по количеству рейсов."
   ]
  },
  {
   "cell_type": "code",
   "execution_count": 39,
   "metadata": {},
   "outputs": [
    {
     "data": {
      "image/png": "[encoded data removed]",
      "text/plain": [
       "<Figure size 1440x1080 with 1 Axes>"
      ]
     },
     "metadata": {},
     "output_type": "display_data"
    }
   ],
   "source": [
    "sns_plot(top_flights_city, 'city', 'average_flights', 'Количество прибывающих рейсов ТОП-10 в городов России', 'Город', 'Количество рейсов')"
   ]
  },
  {
   "cell_type": "markdown",
   "metadata": {},
   "source": [
    "**Вывод:**"
   ]
  },
  {
   "cell_type": "markdown",
   "metadata": {},
   "source": [
    "В августе 2018 года больше всего рейсов было в Москву, на втором месте Санкт-Петербург, а на третьем Новосибирск. \n",
    "Это связано с тем, что Москва по численности населения на 1-ом месте, Санкт-Петербург на втором и Новосибирск на 3-ем.и"
   ]
  },
  {
   "cell_type": "markdown",
   "metadata": {},
   "source": [
    "### График №3 Количество пребывающих рейсов во всех городах."
   ]
  },
  {
   "cell_type": "code",
   "execution_count": 41,
   "metadata": {},
   "outputs": [
    {
     "data": {
      "image/png": "[encoded data removed]",
      "text/plain": [
       "<Figure size 1440x1080 with 1 Axes>"
      ]
     },
     "metadata": {},
     "output_type": "display_data"
    }
   ],
   "source": [
    "sns_plot(city_average_flights,'average_flights','city', 'Количество пребывающих рейсоов во всех городах', 'Город', 'Количество рейсов')"
   ]
  },
  {
   "cell_type": "code",
   "execution_count": 42,
   "metadata": {},
   "outputs": [
    {
     "data": {
      "text/plain": [
       "3.0"
      ]
     },
     "execution_count": 42,
     "metadata": {},
     "output_type": "execute_result"
    }
   ],
   "source": [
    "city_average_flights['average_flights'].median()"
   ]
  },
  {
   "cell_type": "markdown",
   "metadata": {},
   "source": [
    "**Вывод:**"
   ]
  },
  {
   "cell_type": "markdown",
   "metadata": {},
   "source": [
    "Как видно на графике №3 самым большим количеством прибывающих рейсов выделяются Москва, Санкт-Петербург и Новосибирск. Это связано с количеством населения в этих городах. Чем больше население тем больше будет рейсов. В Москве такое количество обуславливается не только количеством населения, но и тем что это столица России.\n",
    "Среднее медианое значение среди всех городов равно 3 прибывающим рейсам за день в августе 2018 года. \n",
    "\n",
    "Думаю сравнивать все города друг с другом не совсем правильно. Правильнее будет сравнивать города в определенном регионе, к сожалению данных к какому региону принадлежит город у нас нет."
   ]
  },
  {
   "cell_type": "markdown",
   "metadata": {},
   "source": [
    "## Общий вывод"
   ]
  },
  {
   "cell_type": "markdown",
   "metadata": {},
   "source": [
    "1. Больше всего рейсов в сентябре 2018 года было совершно на моделях самолета \"Bombardier CRJ-200\", \"Cessna 208 Caravan\", \"Sukhoi Superjet-100\". На этих самолетах в основном совершаются региональные рейсы и бизнес авиация что дополнительно добавляет количество рейсов.\n",
    "\n",
    "2. В августе 2018 года больше всего рейсов было в Москву, на втором месте Санкт-Петербург, а на третьем Новосибирск. Это связано с тем, что Москва по численности населения на 1-ом месте, Санкт-Петербург на втором и Новосибирск на 3-ем.и\n",
    "\n",
    "3. Как видно на графике №3 самым большим количеством прибывающих рейсов выделяются Москва, Санкт-Петербург и Новосибирск. Это связано с количеством населения в этих городах. Чем больше население тем больше будет рейсов. В Москве такое количество обуславливается не только количеством населения, но и тем что это столица России. Среднее медианое значение среди всех городов равно 3 прибывающим рейсам за день в августе 2018 года.\n",
    "\n",
    "Рекомендация: добавить информацию о составе регионов. Какой город в какой регион входит, чтоб лучше проанализировать картину."
   ]
  }
 ],
 "metadata": {
  "ExecuteTimeLog": [
   {
    "duration": 1660,
    "start_time": "2021-11-10T10:51:04.250Z"
   },
   {
    "duration": 18,
    "start_time": "2021-11-10T10:51:56.021Z"
   },
   {
    "duration": 28,
    "start_time": "2021-11-10T10:51:59.964Z"
   },
   {
    "duration": 23,
    "start_time": "2021-11-10T10:52:25.738Z"
   },
   {
    "duration": 21,
    "start_time": "2021-11-10T10:52:32.213Z"
   },
   {
    "duration": 429,
    "start_time": "2021-11-10T10:52:46.837Z"
   },
   {
    "duration": 19,
    "start_time": "2021-11-10T10:52:56.293Z"
   },
   {
    "duration": 23,
    "start_time": "2021-11-10T10:53:02.045Z"
   },
   {
    "duration": 30,
    "start_time": "2021-11-10T10:53:58.009Z"
   },
   {
    "duration": 40,
    "start_time": "2021-11-10T10:54:01.653Z"
   },
   {
    "duration": 34,
    "start_time": "2021-11-10T10:55:02.424Z"
   },
   {
    "duration": 29,
    "start_time": "2021-11-10T10:55:38.191Z"
   },
   {
    "duration": 4,
    "start_time": "2021-11-10T10:59:33.679Z"
   },
   {
    "duration": 9,
    "start_time": "2021-11-10T11:57:37.442Z"
   },
   {
    "duration": 14,
    "start_time": "2021-11-10T11:57:41.770Z"
   },
   {
    "duration": 9,
    "start_time": "2021-11-10T11:59:05.773Z"
   },
   {
    "duration": 9,
    "start_time": "2021-11-10T11:59:21.115Z"
   },
   {
    "duration": 848,
    "start_time": "2021-11-10T12:00:00.132Z"
   },
   {
    "duration": 101,
    "start_time": "2021-11-10T12:00:21.412Z"
   },
   {
    "duration": 18,
    "start_time": "2021-11-10T12:00:30.164Z"
   },
   {
    "duration": 10,
    "start_time": "2021-11-10T12:07:30.320Z"
   },
   {
    "duration": 9,
    "start_time": "2021-11-10T12:07:41.376Z"
   },
   {
    "duration": 7,
    "start_time": "2021-11-10T12:07:55.032Z"
   },
   {
    "duration": 8,
    "start_time": "2021-11-10T12:07:56.063Z"
   },
   {
    "duration": 8,
    "start_time": "2021-11-10T12:07:59.080Z"
   },
   {
    "duration": 8,
    "start_time": "2021-11-10T12:08:48.666Z"
   },
   {
    "duration": 14,
    "start_time": "2021-11-10T12:09:39.089Z"
   },
   {
    "duration": 290,
    "start_time": "2021-11-10T13:29:21.792Z"
   },
   {
    "duration": 310,
    "start_time": "2021-11-10T13:30:21.880Z"
   },
   {
    "duration": 807,
    "start_time": "2021-11-10T13:33:09.249Z"
   },
   {
    "duration": 302,
    "start_time": "2021-11-10T13:33:18.186Z"
   },
   {
    "duration": 6,
    "start_time": "2021-11-10T13:48:24.469Z"
   },
   {
    "duration": 673,
    "start_time": "2021-11-10T13:48:25.986Z"
   },
   {
    "duration": 5,
    "start_time": "2021-11-10T13:48:37.490Z"
   },
   {
    "duration": 688,
    "start_time": "2021-11-10T13:48:37.922Z"
   },
   {
    "duration": 4,
    "start_time": "2021-11-10T13:48:47.634Z"
   },
   {
    "duration": 708,
    "start_time": "2021-11-10T13:48:48.642Z"
   },
   {
    "duration": 9,
    "start_time": "2021-11-10T13:48:56.563Z"
   },
   {
    "duration": 479,
    "start_time": "2021-11-10T13:48:57.194Z"
   },
   {
    "duration": 4,
    "start_time": "2021-11-10T13:49:06.532Z"
   },
   {
    "duration": 662,
    "start_time": "2021-11-10T13:49:07.890Z"
   },
   {
    "duration": 16,
    "start_time": "2021-11-10T13:53:30.821Z"
   },
   {
    "duration": 14,
    "start_time": "2021-11-10T13:53:37.901Z"
   },
   {
    "duration": 6,
    "start_time": "2021-11-10T13:54:02.567Z"
   },
   {
    "duration": 12,
    "start_time": "2021-11-10T13:54:04.749Z"
   },
   {
    "duration": 13,
    "start_time": "2021-11-10T13:55:28.638Z"
   },
   {
    "duration": 10,
    "start_time": "2021-11-10T13:55:35.854Z"
   },
   {
    "duration": 8,
    "start_time": "2021-11-10T13:56:02.327Z"
   },
   {
    "duration": 12,
    "start_time": "2021-11-10T13:56:03.911Z"
   },
   {
    "duration": 785,
    "start_time": "2021-11-10T13:57:44.464Z"
   },
   {
    "duration": 675,
    "start_time": "2021-11-10T14:10:58.783Z"
   },
   {
    "duration": 5778,
    "start_time": "2021-11-10T14:34:45.859Z"
   },
   {
    "duration": 1003,
    "start_time": "2021-11-10T15:41:01.339Z"
   },
   {
    "duration": 3,
    "start_time": "2021-11-10T15:41:33.629Z"
   },
   {
    "duration": 640,
    "start_time": "2021-11-10T15:41:51.610Z"
   },
   {
    "duration": 661,
    "start_time": "2021-11-10T15:41:59.339Z"
   },
   {
    "duration": 9419,
    "start_time": "2021-11-10T15:42:07.635Z"
   },
   {
    "duration": 445,
    "start_time": "2021-11-11T11:24:00.339Z"
   },
   {
    "duration": 402,
    "start_time": "2021-11-11T11:24:04.339Z"
   },
   {
    "duration": 1527,
    "start_time": "2021-11-11T11:24:16.089Z"
   },
   {
    "duration": 66,
    "start_time": "2021-11-11T11:24:17.618Z"
   },
   {
    "duration": 13,
    "start_time": "2021-11-11T11:24:17.687Z"
   },
   {
    "duration": 10,
    "start_time": "2021-11-11T11:24:17.703Z"
   },
   {
    "duration": 14,
    "start_time": "2021-11-11T11:24:17.716Z"
   },
   {
    "duration": 12,
    "start_time": "2021-11-11T11:24:17.732Z"
   },
   {
    "duration": 19,
    "start_time": "2021-11-11T11:24:17.746Z"
   },
   {
    "duration": 6,
    "start_time": "2021-11-11T11:24:17.768Z"
   },
   {
    "duration": 618,
    "start_time": "2021-11-11T11:24:17.776Z"
   },
   {
    "duration": 653,
    "start_time": "2021-11-11T11:24:18.397Z"
   },
   {
    "duration": 5754,
    "start_time": "2021-11-11T11:24:19.059Z"
   },
   {
    "duration": 6,
    "start_time": "2021-11-11T11:26:43.101Z"
   },
   {
    "duration": 1135,
    "start_time": "2021-11-11T11:26:44.044Z"
   },
   {
    "duration": 1282,
    "start_time": "2021-11-11T11:26:47.214Z"
   },
   {
    "duration": 5810,
    "start_time": "2021-11-11T11:26:48.499Z"
   },
   {
    "duration": 4,
    "start_time": "2021-11-11T11:27:02.445Z"
   },
   {
    "duration": 1399,
    "start_time": "2021-11-11T11:27:07.920Z"
   },
   {
    "duration": 31,
    "start_time": "2021-11-11T11:27:09.324Z"
   },
   {
    "duration": 20,
    "start_time": "2021-11-11T11:27:09.358Z"
   },
   {
    "duration": 9,
    "start_time": "2021-11-11T11:27:09.380Z"
   },
   {
    "duration": 16,
    "start_time": "2021-11-11T11:27:09.391Z"
   },
   {
    "duration": 11,
    "start_time": "2021-11-11T11:27:09.409Z"
   },
   {
    "duration": 42,
    "start_time": "2021-11-11T11:27:09.422Z"
   },
   {
    "duration": 6,
    "start_time": "2021-11-11T11:27:09.467Z"
   },
   {
    "duration": 663,
    "start_time": "2021-11-11T11:27:09.475Z"
   },
   {
    "duration": 737,
    "start_time": "2021-11-11T11:27:10.141Z"
   },
   {
    "duration": 5854,
    "start_time": "2021-11-11T11:27:10.880Z"
   },
   {
    "duration": 7339,
    "start_time": "2021-11-11T11:29:38.420Z"
   },
   {
    "duration": 10136,
    "start_time": "2021-11-11T11:30:11.731Z"
   },
   {
    "duration": 509,
    "start_time": "2021-11-11T12:47:25.715Z"
   },
   {
    "duration": 381,
    "start_time": "2021-11-11T12:47:37.220Z"
   },
   {
    "duration": 6058,
    "start_time": "2021-11-11T12:47:59.667Z"
   },
   {
    "duration": 417,
    "start_time": "2021-11-11T12:51:13.437Z"
   },
   {
    "duration": 976,
    "start_time": "2021-11-11T12:51:25.014Z"
   },
   {
    "duration": 7235,
    "start_time": "2021-11-11T12:52:46.398Z"
   },
   {
    "duration": 11306,
    "start_time": "2021-11-11T12:53:24.167Z"
   },
   {
    "duration": 7296,
    "start_time": "2021-11-11T14:41:59.976Z"
   },
   {
    "duration": 429,
    "start_time": "2021-11-12T12:51:16.596Z"
   },
   {
    "duration": 1455,
    "start_time": "2021-11-12T12:51:22.639Z"
   },
   {
    "duration": 33,
    "start_time": "2021-11-12T12:51:24.097Z"
   },
   {
    "duration": 18,
    "start_time": "2021-11-12T12:51:24.133Z"
   },
   {
    "duration": 12,
    "start_time": "2021-11-12T12:51:24.153Z"
   },
   {
    "duration": 11,
    "start_time": "2021-11-12T12:51:24.168Z"
   },
   {
    "duration": 9,
    "start_time": "2021-11-12T12:51:24.181Z"
   },
   {
    "duration": 12,
    "start_time": "2021-11-12T12:51:24.223Z"
   },
   {
    "duration": 10,
    "start_time": "2021-11-12T12:51:24.238Z"
   },
   {
    "duration": 656,
    "start_time": "2021-11-12T12:51:24.251Z"
   },
   {
    "duration": 663,
    "start_time": "2021-11-12T12:51:24.909Z"
   },
   {
    "duration": 5931,
    "start_time": "2021-11-12T12:51:25.575Z"
   },
   {
    "duration": 7869,
    "start_time": "2021-11-12T12:51:31.508Z"
   },
   {
    "duration": 412,
    "start_time": "2021-11-12T12:51:39.379Z"
   },
   {
    "duration": 7,
    "start_time": "2021-11-12T12:54:27.834Z"
   },
   {
    "duration": 9,
    "start_time": "2021-11-12T12:56:00.774Z"
   },
   {
    "duration": 7,
    "start_time": "2021-11-12T12:56:16.882Z"
   },
   {
    "duration": 7,
    "start_time": "2021-11-12T12:56:39.289Z"
   },
   {
    "duration": 10,
    "start_time": "2021-11-12T12:59:46.319Z"
   },
   {
    "duration": 635,
    "start_time": "2021-11-12T13:06:07.204Z"
   },
   {
    "duration": 2847,
    "start_time": "2021-11-12T13:12:41.769Z"
   },
   {
    "duration": 4,
    "start_time": "2021-11-12T13:13:02.203Z"
   },
   {
    "duration": 1527,
    "start_time": "2021-11-12T13:13:08.495Z"
   },
   {
    "duration": 36,
    "start_time": "2021-11-12T13:13:10.025Z"
   },
   {
    "duration": 20,
    "start_time": "2021-11-12T13:13:10.069Z"
   },
   {
    "duration": 17,
    "start_time": "2021-11-12T13:13:10.092Z"
   },
   {
    "duration": 36,
    "start_time": "2021-11-12T13:13:10.112Z"
   },
   {
    "duration": 26,
    "start_time": "2021-11-12T13:13:10.152Z"
   },
   {
    "duration": 16,
    "start_time": "2021-11-12T13:13:10.183Z"
   },
   {
    "duration": 19,
    "start_time": "2021-11-12T13:13:10.203Z"
   },
   {
    "duration": 29,
    "start_time": "2021-11-12T13:13:10.224Z"
   },
   {
    "duration": 861,
    "start_time": "2021-11-12T13:13:10.256Z"
   },
   {
    "duration": 902,
    "start_time": "2021-11-12T13:13:11.123Z"
   },
   {
    "duration": 3006,
    "start_time": "2021-11-12T13:13:12.028Z"
   },
   {
    "duration": 7892,
    "start_time": "2021-11-12T13:13:15.037Z"
   },
   {
    "duration": 4888,
    "start_time": "2021-11-12T13:13:36.806Z"
   },
   {
    "duration": 1351,
    "start_time": "2021-11-12T13:18:14.977Z"
   },
   {
    "duration": 1051,
    "start_time": "2021-11-12T13:18:41.711Z"
   },
   {
    "duration": 877,
    "start_time": "2021-11-12T13:19:24.299Z"
   },
   {
    "duration": 817,
    "start_time": "2021-11-12T13:20:38.395Z"
   },
   {
    "duration": 7,
    "start_time": "2021-11-12T13:41:45.485Z"
   },
   {
    "duration": 6,
    "start_time": "2021-11-12T13:41:53.939Z"
   },
   {
    "duration": 7,
    "start_time": "2021-11-12T13:43:13.425Z"
   },
   {
    "duration": 1448,
    "start_time": "2021-11-12T18:06:26.606Z"
   },
   {
    "duration": 27,
    "start_time": "2021-11-12T18:06:28.057Z"
   },
   {
    "duration": 19,
    "start_time": "2021-11-12T18:06:28.087Z"
   },
   {
    "duration": 9,
    "start_time": "2021-11-12T18:06:28.108Z"
   },
   {
    "duration": 13,
    "start_time": "2021-11-12T18:06:28.120Z"
   },
   {
    "duration": 34,
    "start_time": "2021-11-12T18:06:28.135Z"
   },
   {
    "duration": 8,
    "start_time": "2021-11-12T18:06:28.172Z"
   },
   {
    "duration": 13,
    "start_time": "2021-11-12T18:06:28.184Z"
   },
   {
    "duration": 9,
    "start_time": "2021-11-12T18:06:28.199Z"
   },
   {
    "duration": 863,
    "start_time": "2021-11-12T18:06:28.210Z"
   },
   {
    "duration": 846,
    "start_time": "2021-11-12T18:06:29.076Z"
   },
   {
    "duration": 100,
    "start_time": "2021-11-12T18:06:29.925Z"
   },
   {
    "duration": -155,
    "start_time": "2021-11-12T18:06:30.183Z"
   },
   {
    "duration": 411,
    "start_time": "2021-11-12T18:27:04.259Z"
   },
   {
    "duration": 1498,
    "start_time": "2021-11-12T18:27:12.047Z"
   },
   {
    "duration": 27,
    "start_time": "2021-11-12T18:27:13.547Z"
   },
   {
    "duration": 19,
    "start_time": "2021-11-12T18:27:13.577Z"
   },
   {
    "duration": 12,
    "start_time": "2021-11-12T18:27:13.598Z"
   },
   {
    "duration": 12,
    "start_time": "2021-11-12T18:27:13.612Z"
   },
   {
    "duration": 10,
    "start_time": "2021-11-12T18:27:13.627Z"
   },
   {
    "duration": 38,
    "start_time": "2021-11-12T18:27:13.640Z"
   },
   {
    "duration": 15,
    "start_time": "2021-11-12T18:27:13.682Z"
   },
   {
    "duration": 403,
    "start_time": "2021-11-12T18:27:13.700Z"
   },
   {
    "duration": -175,
    "start_time": "2021-11-12T18:27:14.281Z"
   },
   {
    "duration": -178,
    "start_time": "2021-11-12T18:27:14.285Z"
   },
   {
    "duration": -181,
    "start_time": "2021-11-12T18:27:14.290Z"
   },
   {
    "duration": -183,
    "start_time": "2021-11-12T18:27:14.293Z"
   },
   {
    "duration": -194,
    "start_time": "2021-11-12T18:27:14.306Z"
   },
   {
    "duration": 262,
    "start_time": "2021-11-12T18:27:40.748Z"
   },
   {
    "duration": 5,
    "start_time": "2021-11-12T18:27:59.942Z"
   },
   {
    "duration": 335,
    "start_time": "2021-11-12T18:28:33.361Z"
   },
   {
    "duration": 5,
    "start_time": "2021-11-12T18:28:37.728Z"
   },
   {
    "duration": 838,
    "start_time": "2021-11-12T18:28:39.010Z"
   },
   {
    "duration": 387,
    "start_time": "2021-11-14T10:11:03.589Z"
   },
   {
    "duration": 1150,
    "start_time": "2021-11-14T10:11:10.370Z"
   },
   {
    "duration": 27,
    "start_time": "2021-11-14T10:11:11.522Z"
   },
   {
    "duration": 13,
    "start_time": "2021-11-14T10:11:11.553Z"
   },
   {
    "duration": 9,
    "start_time": "2021-11-14T10:11:11.568Z"
   },
   {
    "duration": 7,
    "start_time": "2021-11-14T10:11:11.579Z"
   },
   {
    "duration": 9,
    "start_time": "2021-11-14T10:11:11.587Z"
   },
   {
    "duration": 15,
    "start_time": "2021-11-14T10:11:11.598Z"
   },
   {
    "duration": 16,
    "start_time": "2021-11-14T10:11:11.614Z"
   },
   {
    "duration": 8,
    "start_time": "2021-11-14T10:11:11.632Z"
   },
   {
    "duration": 8,
    "start_time": "2021-11-14T10:11:11.641Z"
   },
   {
    "duration": 450,
    "start_time": "2021-11-14T10:11:11.651Z"
   },
   {
    "duration": 488,
    "start_time": "2021-11-14T10:11:12.106Z"
   },
   {
    "duration": 125,
    "start_time": "2021-11-14T10:11:12.597Z"
   },
   {
    "duration": 106,
    "start_time": "2021-11-14T10:11:12.617Z"
   },
   {
    "duration": 1656,
    "start_time": "2021-11-14T10:13:26.204Z"
   },
   {
    "duration": 1711,
    "start_time": "2021-11-14T10:13:48.138Z"
   },
   {
    "duration": 1600,
    "start_time": "2021-11-14T10:29:19.323Z"
   },
   {
    "duration": 3,
    "start_time": "2021-11-14T10:30:38.435Z"
   },
   {
    "duration": 811,
    "start_time": "2021-11-14T10:31:10.524Z"
   },
   {
    "duration": 3,
    "start_time": "2021-11-14T10:34:26.383Z"
   },
   {
    "duration": 694,
    "start_time": "2021-11-14T10:34:26.773Z"
   },
   {
    "duration": 3,
    "start_time": "2021-11-14T10:35:30.137Z"
   },
   {
    "duration": 818,
    "start_time": "2021-11-14T10:35:30.142Z"
   },
   {
    "duration": 3,
    "start_time": "2021-11-14T10:35:32.465Z"
   },
   {
    "duration": 723,
    "start_time": "2021-11-14T10:35:33.031Z"
   },
   {
    "duration": 3,
    "start_time": "2021-11-14T10:38:30.170Z"
   },
   {
    "duration": 1298,
    "start_time": "2021-11-14T10:38:30.792Z"
   },
   {
    "duration": 4,
    "start_time": "2021-11-14T10:38:50.945Z"
   },
   {
    "duration": 1454,
    "start_time": "2021-11-14T10:38:51.360Z"
   },
   {
    "duration": 1282,
    "start_time": "2021-11-14T10:40:07.854Z"
   },
   {
    "duration": 30,
    "start_time": "2021-11-14T10:40:09.138Z"
   },
   {
    "duration": 13,
    "start_time": "2021-11-14T10:40:09.170Z"
   },
   {
    "duration": 7,
    "start_time": "2021-11-14T10:40:09.186Z"
   },
   {
    "duration": 10,
    "start_time": "2021-11-14T10:40:09.194Z"
   },
   {
    "duration": 6,
    "start_time": "2021-11-14T10:40:09.206Z"
   },
   {
    "duration": 6,
    "start_time": "2021-11-14T10:40:09.214Z"
   },
   {
    "duration": 9,
    "start_time": "2021-11-14T10:40:09.223Z"
   },
   {
    "duration": 5,
    "start_time": "2021-11-14T10:40:09.234Z"
   },
   {
    "duration": 7,
    "start_time": "2021-11-14T10:40:09.240Z"
   },
   {
    "duration": 8,
    "start_time": "2021-11-14T10:40:09.249Z"
   },
   {
    "duration": 1335,
    "start_time": "2021-11-14T10:40:09.258Z"
   },
   {
    "duration": 114,
    "start_time": "2021-11-14T10:40:10.481Z"
   },
   {
    "duration": 109,
    "start_time": "2021-11-14T10:40:10.487Z"
   },
   {
    "duration": 106,
    "start_time": "2021-11-14T10:40:10.491Z"
   },
   {
    "duration": 105,
    "start_time": "2021-11-14T10:40:10.493Z"
   },
   {
    "duration": 341,
    "start_time": "2021-11-14T10:45:22.277Z"
   },
   {
    "duration": 1340,
    "start_time": "2021-11-14T10:45:22.620Z"
   },
   {
    "duration": 2,
    "start_time": "2021-11-14T10:46:03.719Z"
   },
   {
    "duration": 408,
    "start_time": "2021-11-14T10:46:10.847Z"
   },
   {
    "duration": 444,
    "start_time": "2021-11-14T10:46:16.598Z"
   },
   {
    "duration": 694,
    "start_time": "2021-11-14T10:46:22.983Z"
   },
   {
    "duration": 4,
    "start_time": "2021-11-14T10:46:33.973Z"
   },
   {
    "duration": 4,
    "start_time": "2021-11-14T10:46:34.335Z"
   },
   {
    "duration": 459,
    "start_time": "2021-11-14T10:46:34.930Z"
   },
   {
    "duration": 484,
    "start_time": "2021-11-14T10:46:39.038Z"
   },
   {
    "duration": 357,
    "start_time": "2021-11-14T10:46:46.087Z"
   },
   {
    "duration": 457,
    "start_time": "2021-11-14T10:46:52.958Z"
   },
   {
    "duration": 3,
    "start_time": "2021-11-14T10:47:56.919Z"
   },
   {
    "duration": 454,
    "start_time": "2021-11-14T10:48:33.439Z"
   },
   {
    "duration": 4,
    "start_time": "2021-11-14T10:48:49.593Z"
   },
   {
    "duration": 442,
    "start_time": "2021-11-14T10:48:50.703Z"
   },
   {
    "duration": 3,
    "start_time": "2021-11-14T10:48:58.448Z"
   },
   {
    "duration": 433,
    "start_time": "2021-11-14T10:48:58.959Z"
   },
   {
    "duration": 4,
    "start_time": "2021-11-14T10:50:08.081Z"
   },
   {
    "duration": 364,
    "start_time": "2021-11-14T10:50:08.832Z"
   },
   {
    "duration": 3,
    "start_time": "2021-11-14T10:51:18.914Z"
   },
   {
    "duration": 535,
    "start_time": "2021-11-14T10:51:28.273Z"
   },
   {
    "duration": 3,
    "start_time": "2021-11-14T10:51:53.841Z"
   },
   {
    "duration": 446,
    "start_time": "2021-11-14T10:51:54.449Z"
   },
   {
    "duration": 4,
    "start_time": "2021-11-14T10:55:49.740Z"
   },
   {
    "duration": 447,
    "start_time": "2021-11-14T10:55:51.659Z"
   },
   {
    "duration": 465,
    "start_time": "2021-11-14T10:57:41.124Z"
   },
   {
    "duration": 3724,
    "start_time": "2021-11-14T10:58:50.046Z"
   },
   {
    "duration": 2102,
    "start_time": "2021-11-14T10:59:06.036Z"
   },
   {
    "duration": 5,
    "start_time": "2021-11-14T10:59:12.983Z"
   }
  ],
  "kernelspec": {
   "display_name": "Python 3 (ipykernel)",
   "language": "python",
   "name": "python3"
  },
  "language_info": {
   "codemirror_mode": {
    "name": "ipython",
    "version": 3
   },
   "file_extension": ".py",
   "mimetype": "text/x-python",
   "name": "python",
   "nbconvert_exporter": "python",
   "pygments_lexer": "ipython3",
   "version": "3.9.7"
  },
  "toc": {
   "base_numbering": 1,
   "nav_menu": {},
   "number_sections": true,
   "sideBar": true,
   "skip_h1_title": true,
   "title_cell": "Table of Contents",
   "title_sidebar": "Contents",
   "toc_cell": false,
   "toc_position": {},
   "toc_section_display": true,
   "toc_window_display": false
  }
 },
 "nbformat": 4,
 "nbformat_minor": 2
}
